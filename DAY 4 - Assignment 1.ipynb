{
 "cells": [
  {
   "cell_type": "markdown",
   "metadata": {},
   "source": [
    "# ArmStrong Number in the range of 1042000 to 702648265\n"
   ]
  },
  {
   "cell_type": "code",
   "execution_count": 2,
   "metadata": {},
   "outputs": [
    {
     "name": "stdout",
     "output_type": "stream",
     "text": [
      "The first armstrong number is 1741725\n"
     ]
    }
   ],
   "source": [
    "for i in range(1042000,702648265):\n",
    "    num=i\n",
    "    result=0\n",
    "    n=len(str(i))\n",
    "    while (i!=0):\n",
    "        digit = i%10\n",
    "        result=result+digit**n\n",
    "        i = i//10\n",
    "    if num==result:\n",
    "        print('The first armstrong number is',num)\n",
    "        break"
   ]
  },
  {
   "cell_type": "code",
   "execution_count": null,
   "metadata": {},
   "outputs": [],
   "source": []
  }
 ],
 "metadata": {
  "kernelspec": {
   "display_name": "Python 3",
   "language": "python",
   "name": "python3"
  },
  "language_info": {
   "codemirror_mode": {
    "name": "ipython",
    "version": 3
   },
   "file_extension": ".py",
   "mimetype": "text/x-python",
   "name": "python",
   "nbconvert_exporter": "python",
   "pygments_lexer": "ipython3",
   "version": "3.6.5"
  }
 },
 "nbformat": 4,
 "nbformat_minor": 2
}
