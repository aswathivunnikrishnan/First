{
 "cells": [
  {
   "cell_type": "code",
   "execution_count": 9,
   "metadata": {},
   "outputs": [],
   "source": [
    "class bankAccound:\n",
    "    def __init__(self, ownerName, balance):\n",
    "        self.ownerName = ownerName\n",
    "        self.balance = balance\n",
    "    \n",
    "    def __str__(self):\n",
    "        return 'Account owner: {ownerName}\\nAccount balance: ${balance}'.format(ownerName=self.ownerName, balance=self.balance)\n",
    "        \n",
    "    def deposit(self, DepositMoney):\n",
    "        self.balance += DepositMoney\n",
    "        print('Deposit Accepted, Balance is {balance}'.format(balance=self.balance))\n",
    "        \n",
    "    def withdraw(self, Withdraw_Money):\n",
    "        if Withdraw_Money > self.balance:\n",
    "            print('Funds Unavailable!')\n",
    "        else:\n",
    "            self.balance -= Withdraw_Money\n",
    "            print('Withdrawal Accepted, your balance is {balance}'.format(balance=self.balance))\n",
    "            \n",
    "    \n",
    "        "
   ]
  },
  {
   "cell_type": "code",
   "execution_count": 10,
   "metadata": {},
   "outputs": [
    {
     "name": "stdout",
     "output_type": "stream",
     "text": [
      "Account owner: Jose\n",
      "Account balance: $100\n",
      "Deposit Accepted, Balance is 5100\n"
     ]
    }
   ],
   "source": [
    "action = bankAccound('Jose',100)\n",
    "print(action)\n",
    "action.deposit(5000)"
   ]
  },
  {
   "cell_type": "code",
   "execution_count": 11,
   "metadata": {},
   "outputs": [
    {
     "name": "stdout",
     "output_type": "stream",
     "text": [
      "Withdrawal Accepted, your balance is 4925\n"
     ]
    }
   ],
   "source": [
    "action.withdraw(175)"
   ]
  },
  {
   "cell_type": "code",
   "execution_count": 12,
   "metadata": {},
   "outputs": [
    {
     "name": "stdout",
     "output_type": "stream",
     "text": [
      "Withdrawal Accepted, your balance is 4920\n"
     ]
    }
   ],
   "source": [
    "action.withdraw(5)"
   ]
  },
  {
   "cell_type": "code",
   "execution_count": 13,
   "metadata": {},
   "outputs": [
    {
     "name": "stdout",
     "output_type": "stream",
     "text": [
      "Account owner: Jose\n",
      "Account balance: $10000\n",
      "Deposit Accepted, Balance is 15000\n",
      "Withdrawal Accepted, your balance is 14990\n",
      "Withdrawal Accepted, your balance is 14415\n"
     ]
    }
   ],
   "source": [
    "action = bankAccound('Jose',10000)\n",
    "print(action)\n",
    "action.deposit(5000)\n",
    "action.withdraw(10)\n",
    "action.withdraw(575)"
   ]
  }
 ],
 "metadata": {
  "kernelspec": {
   "display_name": "Python 3",
   "language": "python",
   "name": "python3"
  },
  "language_info": {
   "codemirror_mode": {
    "name": "ipython",
    "version": 3
   },
   "file_extension": ".py",
   "mimetype": "text/x-python",
   "name": "python",
   "nbconvert_exporter": "python",
   "pygments_lexer": "ipython3",
   "version": "3.6.5"
  }
 },
 "nbformat": 4,
 "nbformat_minor": 2
}
