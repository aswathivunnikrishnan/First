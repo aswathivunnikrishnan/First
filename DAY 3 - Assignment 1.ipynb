{
 "cells": [
  {
   "cell_type": "code",
   "execution_count": 9,
   "metadata": {},
   "outputs": [
    {
     "name": "stdout",
     "output_type": "stream",
     "text": [
      "Enter the feet:200\n",
      "safe to land\n"
     ]
    }
   ],
   "source": [
    "ft = eval(input(\"Enter the feet:\"))\n",
    "\n",
    "if ft <= 1000:\n",
    "    \n",
    "    print('safe to land')\n",
    "    \n",
    "elif (1000 < ft < 5000 ):\n",
    "    \n",
    "    print('Bring down to 1000ft')\n",
    "    \n",
    "elif ft >= 5000:\n",
    "    \n",
    "    print('Go ground and try later')\n",
    "\n",
    "    "
   ]
  },
  {
   "cell_type": "code",
   "execution_count": 10,
   "metadata": {},
   "outputs": [
    {
     "name": "stdout",
     "output_type": "stream",
     "text": [
      "Enter the feet:3500\n",
      "Bring down to 1000ft\n"
     ]
    }
   ],
   "source": [
    "ft = eval(input(\"Enter the feet:\"))\n",
    "\n",
    "if ft <= 1000:\n",
    "    \n",
    "    print('safe to land')\n",
    "    \n",
    "elif (1000 < ft < 5000 ):\n",
    "    \n",
    "    print('Bring down to 1000ft')\n",
    "    \n",
    "elif ft >= 5000:\n",
    "    \n",
    "    print('Go ground and try later')\n",
    "\n"
   ]
  },
  {
   "cell_type": "code",
   "execution_count": 11,
   "metadata": {},
   "outputs": [
    {
     "name": "stdout",
     "output_type": "stream",
     "text": [
      "Enter the feet:50000000\n",
      "Go ground and try later\n"
     ]
    }
   ],
   "source": [
    "ft = eval(input(\"Enter the feet:\"))\n",
    "\n",
    "if ft <= 1000:\n",
    "    \n",
    "    print('safe to land')\n",
    "    \n",
    "elif (1000 < ft < 5000 ):\n",
    "    \n",
    "    print('Bring down to 1000ft')\n",
    "    \n",
    "elif ft >= 5000:\n",
    "    \n",
    "    print('Go ground and try later')\n",
    "\n",
    "else :\n",
    "    print('exit')"
   ]
  }
 ],
 "metadata": {
  "kernelspec": {
   "display_name": "Python 3",
   "language": "python",
   "name": "python3"
  },
  "language_info": {
   "codemirror_mode": {
    "name": "ipython",
    "version": 3
   },
   "file_extension": ".py",
   "mimetype": "text/x-python",
   "name": "python",
   "nbconvert_exporter": "python",
   "pygments_lexer": "ipython3",
   "version": "3.6.5"
  }
 },
 "nbformat": 4,
 "nbformat_minor": 2
}
