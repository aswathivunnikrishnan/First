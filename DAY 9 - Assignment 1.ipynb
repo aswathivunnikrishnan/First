{
 "cells": [
  {
   "cell_type": "markdown",
   "metadata": {},
   "source": [
    "# unit test"
   ]
  },
  {
   "cell_type": "code",
   "execution_count": 1,
   "metadata": {},
   "outputs": [
    {
     "name": "stdout",
     "output_type": "stream",
     "text": [
      "Requirement already satisfied: pylint in c:\\users\\athira\\anaconda3\\lib\\site-packages (1.8.4)\n",
      "Requirement already satisfied: astroid<2.0,>=1.6 in c:\\users\\athira\\anaconda3\\lib\\site-packages (from pylint) (1.6.3)\n",
      "Requirement already satisfied: six in c:\\users\\athira\\anaconda3\\lib\\site-packages (from pylint) (1.11.0)\n",
      "Requirement already satisfied: isort>=4.2.5 in c:\\users\\athira\\anaconda3\\lib\\site-packages (from pylint) (4.3.4)\n",
      "Requirement already satisfied: mccabe in c:\\users\\athira\\anaconda3\\lib\\site-packages (from pylint) (0.6.1)\n",
      "Requirement already satisfied: colorama in c:\\users\\athira\\anaconda3\\lib\\site-packages (from pylint) (0.3.9)\n",
      "Requirement already satisfied: lazy_object_proxy in c:\\users\\athira\\anaconda3\\lib\\site-packages (from astroid<2.0,>=1.6->pylint) (1.3.1)\n",
      "Requirement already satisfied: wrapt in c:\\users\\athira\\anaconda3\\lib\\site-packages (from astroid<2.0,>=1.6->pylint) (1.10.11)\n"
     ]
    },
    {
     "name": "stderr",
     "output_type": "stream",
     "text": [
      "distributed 1.21.8 requires msgpack, which is not installed.\n",
      "You are using pip version 10.0.1, however version 20.2.3 is available.\n",
      "You should consider upgrading via the 'python -m pip install --upgrade pip' command.\n"
     ]
    }
   ],
   "source": [
    "! pip install pylint"
   ]
  },
  {
   "cell_type": "code",
   "execution_count": 2,
   "metadata": {},
   "outputs": [
    {
     "name": "stdout",
     "output_type": "stream",
     "text": [
      "Overwriting some_code.py\n"
     ]
    }
   ],
   "source": [
    "%%writefile some_code.py\n",
    "def test_prime(n):\n",
    "    if (n==1):\n",
    "        return False\n",
    "    elif (n==2):\n",
    "        return True;\n",
    "    else:\n",
    "        for x in range(2,n):\n",
    "            if(n % x==0):\n",
    "                return False\n",
    "        return True             \n",
    "print(test_prime(9))"
   ]
  },
  {
   "cell_type": "code",
   "execution_count": 3,
   "metadata": {},
   "outputs": [
    {
     "name": "stdout",
     "output_type": "stream",
     "text": [
      "************* Module some_code\n",
      "C:  2, 0: Unnecessary parens after 'if' keyword (superfluous-parens)\n",
      "C:  2, 0: Exactly one space required around comparison\n",
      "    if (n==1):\n",
      "\n",
      "         ^^ (bad-whitespace)\n",
      "C:  4, 0: Unnecessary parens after 'elif' keyword (superfluous-parens)\n",
      "C:  4, 0: Exactly one space required around comparison\n",
      "    elif (n==2):\n",
      "\n",
      "           ^^ (bad-whitespace)\n",
      "W:  5, 0: Unnecessary semicolon (unnecessary-semicolon)\n",
      "C:  7, 0: Exactly one space required after comma\n",
      "        for x in range(2,n):\n",
      "\n",
      "                        ^ (bad-whitespace)\n",
      "C:  8, 0: Unnecessary parens after 'if' keyword (superfluous-parens)\n",
      "C:  8, 0: Exactly one space required around comparison\n",
      "            if(n % x==0):\n",
      "\n",
      "                    ^^ (bad-whitespace)\n",
      "C: 10, 0: Trailing whitespace (trailing-whitespace)\n",
      "C: 11, 0: Final newline missing (missing-final-newline)\n",
      "C:  1, 0: Missing module docstring (missing-docstring)\n",
      "C:  1, 0: Argument name \"n\" doesn't conform to snake_case naming style (invalid-name)\n",
      "C:  1, 0: Missing function docstring (missing-docstring)\n",
      "R:  2, 4: Unnecessary \"else\" after \"return\" (no-else-return)\n",
      "C:  7,12: Variable name \"x\" doesn't conform to snake_case naming style (invalid-name)\n",
      "\n",
      "--------------------------------------------------------------------\n",
      "\n",
      "Your code has been rated at -5.00/10 (previous run: 8.00/10, -13.00)\n",
      "\n",
      "\n",
      "\n"
     ]
    },
    {
     "name": "stderr",
     "output_type": "stream",
     "text": [
      "No config file found, using default configuration\n"
     ]
    }
   ],
   "source": [
    "! pylint \"some_code.py\""
   ]
  },
  {
   "cell_type": "code",
   "execution_count": null,
   "metadata": {},
   "outputs": [],
   "source": []
  }
 ],
 "metadata": {
  "kernelspec": {
   "display_name": "Python 3",
   "language": "python",
   "name": "python3"
  },
  "language_info": {
   "codemirror_mode": {
    "name": "ipython",
    "version": 3
   },
   "file_extension": ".py",
   "mimetype": "text/x-python",
   "name": "python",
   "nbconvert_exporter": "python",
   "pygments_lexer": "ipython3",
   "version": "3.6.5"
  }
 },
 "nbformat": 4,
 "nbformat_minor": 2
}
